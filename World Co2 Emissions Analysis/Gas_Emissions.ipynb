{
 "cells": [
  {
   "cell_type": "code",
   "execution_count": 150,
   "id": "313dd30b-3f57-474d-99b2-3a8b5353fef4",
   "metadata": {},
   "outputs": [],
   "source": [
    "import pandas as pd\n",
    "import numpy as np\n",
    "import matplotlib.pyplot as plt\n",
    "import seaborn as sns"
   ]
  },
  {
   "cell_type": "code",
   "execution_count": 151,
   "id": "ab0442d7-7664-4d71-90b7-1ff295257cd3",
   "metadata": {},
   "outputs": [],
   "source": [
    "df=pd.read_csv(\"owid-co2-data.csv\")"
   ]
  },
  {
   "cell_type": "code",
   "execution_count": 152,
   "id": "58c347a1-3bac-4abe-b7e8-2faa6613e0ae",
   "metadata": {},
   "outputs": [
    {
     "data": {
      "text/html": [
       "<div>\n",
       "<style scoped>\n",
       "    .dataframe tbody tr th:only-of-type {\n",
       "        vertical-align: middle;\n",
       "    }\n",
       "\n",
       "    .dataframe tbody tr th {\n",
       "        vertical-align: top;\n",
       "    }\n",
       "\n",
       "    .dataframe thead th {\n",
       "        text-align: right;\n",
       "    }\n",
       "</style>\n",
       "<table border=\"1\" class=\"dataframe\">\n",
       "  <thead>\n",
       "    <tr style=\"text-align: right;\">\n",
       "      <th></th>\n",
       "      <th>country</th>\n",
       "      <th>year</th>\n",
       "      <th>iso_code</th>\n",
       "      <th>population</th>\n",
       "      <th>gdp</th>\n",
       "      <th>cement_co2</th>\n",
       "      <th>cement_co2_per_capita</th>\n",
       "      <th>co2</th>\n",
       "      <th>co2_growth_abs</th>\n",
       "      <th>co2_growth_prct</th>\n",
       "      <th>...</th>\n",
       "      <th>share_global_other_co2</th>\n",
       "      <th>share_of_temperature_change_from_ghg</th>\n",
       "      <th>temperature_change_from_ch4</th>\n",
       "      <th>temperature_change_from_co2</th>\n",
       "      <th>temperature_change_from_ghg</th>\n",
       "      <th>temperature_change_from_n2o</th>\n",
       "      <th>total_ghg</th>\n",
       "      <th>total_ghg_excluding_lucf</th>\n",
       "      <th>trade_co2</th>\n",
       "      <th>trade_co2_share</th>\n",
       "    </tr>\n",
       "  </thead>\n",
       "  <tbody>\n",
       "    <tr>\n",
       "      <th>0</th>\n",
       "      <td>Afghanistan</td>\n",
       "      <td>1750</td>\n",
       "      <td>AFG</td>\n",
       "      <td>2802560.0</td>\n",
       "      <td>NaN</td>\n",
       "      <td>0.0</td>\n",
       "      <td>0.0</td>\n",
       "      <td>NaN</td>\n",
       "      <td>NaN</td>\n",
       "      <td>NaN</td>\n",
       "      <td>...</td>\n",
       "      <td>NaN</td>\n",
       "      <td>NaN</td>\n",
       "      <td>NaN</td>\n",
       "      <td>NaN</td>\n",
       "      <td>NaN</td>\n",
       "      <td>NaN</td>\n",
       "      <td>NaN</td>\n",
       "      <td>NaN</td>\n",
       "      <td>NaN</td>\n",
       "      <td>NaN</td>\n",
       "    </tr>\n",
       "    <tr>\n",
       "      <th>1</th>\n",
       "      <td>Afghanistan</td>\n",
       "      <td>1751</td>\n",
       "      <td>AFG</td>\n",
       "      <td>NaN</td>\n",
       "      <td>NaN</td>\n",
       "      <td>0.0</td>\n",
       "      <td>NaN</td>\n",
       "      <td>NaN</td>\n",
       "      <td>NaN</td>\n",
       "      <td>NaN</td>\n",
       "      <td>...</td>\n",
       "      <td>NaN</td>\n",
       "      <td>NaN</td>\n",
       "      <td>NaN</td>\n",
       "      <td>NaN</td>\n",
       "      <td>NaN</td>\n",
       "      <td>NaN</td>\n",
       "      <td>NaN</td>\n",
       "      <td>NaN</td>\n",
       "      <td>NaN</td>\n",
       "      <td>NaN</td>\n",
       "    </tr>\n",
       "  </tbody>\n",
       "</table>\n",
       "<p>2 rows × 79 columns</p>\n",
       "</div>"
      ],
      "text/plain": [
       "       country  year iso_code  population  gdp  cement_co2  \\\n",
       "0  Afghanistan  1750      AFG   2802560.0  NaN         0.0   \n",
       "1  Afghanistan  1751      AFG         NaN  NaN         0.0   \n",
       "\n",
       "   cement_co2_per_capita  co2  co2_growth_abs  co2_growth_prct  ...  \\\n",
       "0                    0.0  NaN             NaN              NaN  ...   \n",
       "1                    NaN  NaN             NaN              NaN  ...   \n",
       "\n",
       "   share_global_other_co2  share_of_temperature_change_from_ghg  \\\n",
       "0                     NaN                                   NaN   \n",
       "1                     NaN                                   NaN   \n",
       "\n",
       "   temperature_change_from_ch4  temperature_change_from_co2  \\\n",
       "0                          NaN                          NaN   \n",
       "1                          NaN                          NaN   \n",
       "\n",
       "   temperature_change_from_ghg  temperature_change_from_n2o  total_ghg  \\\n",
       "0                          NaN                          NaN        NaN   \n",
       "1                          NaN                          NaN        NaN   \n",
       "\n",
       "   total_ghg_excluding_lucf  trade_co2  trade_co2_share  \n",
       "0                       NaN        NaN              NaN  \n",
       "1                       NaN        NaN              NaN  \n",
       "\n",
       "[2 rows x 79 columns]"
      ]
     },
     "execution_count": 152,
     "metadata": {},
     "output_type": "execute_result"
    }
   ],
   "source": [
    "df.head(2)"
   ]
  },
  {
   "cell_type": "code",
   "execution_count": 153,
   "id": "46035a2c-c05c-4acc-a9c6-d506f31d4c85",
   "metadata": {},
   "outputs": [
    {
     "name": "stdout",
     "output_type": "stream",
     "text": [
      "<class 'pandas.core.frame.DataFrame'>\n",
      "RangeIndex: 50191 entries, 0 to 50190\n",
      "Data columns (total 79 columns):\n",
      " #   Column                                     Non-Null Count  Dtype  \n",
      "---  ------                                     --------------  -----  \n",
      " 0   country                                    50191 non-null  object \n",
      " 1   year                                       50191 non-null  int64  \n",
      " 2   iso_code                                   42262 non-null  object \n",
      " 3   population                                 41019 non-null  float64\n",
      " 4   gdp                                        15251 non-null  float64\n",
      " 5   cement_co2                                 28863 non-null  float64\n",
      " 6   cement_co2_per_capita                      25358 non-null  float64\n",
      " 7   co2                                        29137 non-null  float64\n",
      " 8   co2_growth_abs                             26981 non-null  float64\n",
      " 9   co2_growth_prct                            26002 non-null  float64\n",
      " 10  co2_including_luc                          23585 non-null  float64\n",
      " 11  co2_including_luc_growth_abs               23285 non-null  float64\n",
      " 12  co2_including_luc_growth_prct              23285 non-null  float64\n",
      " 13  co2_including_luc_per_capita               23495 non-null  float64\n",
      " 14  co2_including_luc_per_gdp                  16790 non-null  float64\n",
      " 15  co2_including_luc_per_unit_energy          9701 non-null   float64\n",
      " 16  co2_per_capita                             26182 non-null  float64\n",
      " 17  co2_per_gdp                                17528 non-null  float64\n",
      " 18  co2_per_unit_energy                        10350 non-null  float64\n",
      " 19  coal_co2                                   21755 non-null  float64\n",
      " 20  coal_co2_per_capita                        21050 non-null  float64\n",
      " 21  consumption_co2                            4866 non-null   float64\n",
      " 22  consumption_co2_per_capita                 4502 non-null   float64\n",
      " 23  consumption_co2_per_gdp                    4444 non-null   float64\n",
      " 24  cumulative_cement_co2                      28841 non-null  float64\n",
      " 25  cumulative_co2                             27328 non-null  float64\n",
      " 26  cumulative_co2_including_luc               23585 non-null  float64\n",
      " 27  cumulative_coal_co2                        21755 non-null  float64\n",
      " 28  cumulative_flaring_co2                     15891 non-null  float64\n",
      " 29  cumulative_gas_co2                         18014 non-null  float64\n",
      " 30  cumulative_luc_co2                         37236 non-null  float64\n",
      " 31  cumulative_oil_co2                         25217 non-null  float64\n",
      " 32  cumulative_other_co2                       3202 non-null   float64\n",
      " 33  energy_per_capita                          10109 non-null  float64\n",
      " 34  energy_per_gdp                             7696 non-null   float64\n",
      " 35  flaring_co2                                15952 non-null  float64\n",
      " 36  flaring_co2_per_capita                     14694 non-null  float64\n",
      " 37  gas_co2                                    18014 non-null  float64\n",
      " 38  gas_co2_per_capita                         17292 non-null  float64\n",
      " 39  ghg_excluding_lucf_per_capita              35639 non-null  float64\n",
      " 40  ghg_per_capita                             35813 non-null  float64\n",
      " 41  land_use_change_co2                        37236 non-null  float64\n",
      " 42  land_use_change_co2_per_capita             36434 non-null  float64\n",
      " 43  methane                                    37410 non-null  float64\n",
      " 44  methane_per_capita                         35813 non-null  float64\n",
      " 45  nitrous_oxide                              38280 non-null  float64\n",
      " 46  nitrous_oxide_per_capita                   36320 non-null  float64\n",
      " 47  oil_co2                                    25218 non-null  float64\n",
      " 48  oil_co2_per_capita                         24436 non-null  float64\n",
      " 49  other_co2_per_capita                       2474 non-null   float64\n",
      " 50  other_industry_co2                         3202 non-null   float64\n",
      " 51  primary_energy_consumption                 10151 non-null  float64\n",
      " 52  share_global_cement_co2                    21960 non-null  float64\n",
      " 53  share_global_co2                           27328 non-null  float64\n",
      " 54  share_global_co2_including_luc             23585 non-null  float64\n",
      " 55  share_global_coal_co2                      21755 non-null  float64\n",
      " 56  share_global_cumulative_cement_co2         21960 non-null  float64\n",
      " 57  share_global_cumulative_co2                27328 non-null  float64\n",
      " 58  share_global_cumulative_co2_including_luc  23585 non-null  float64\n",
      " 59  share_global_cumulative_coal_co2           21755 non-null  float64\n",
      " 60  share_global_cumulative_flaring_co2        10869 non-null  float64\n",
      " 61  share_global_cumulative_gas_co2            15034 non-null  float64\n",
      " 62  share_global_cumulative_luc_co2            37236 non-null  float64\n",
      " 63  share_global_cumulative_oil_co2            23592 non-null  float64\n",
      " 64  share_global_cumulative_other_co2          2108 non-null   float64\n",
      " 65  share_global_flaring_co2                   10869 non-null  float64\n",
      " 66  share_global_gas_co2                       15034 non-null  float64\n",
      " 67  share_global_luc_co2                       37236 non-null  float64\n",
      " 68  share_global_oil_co2                       23592 non-null  float64\n",
      " 69  share_global_other_co2                     2108 non-null   float64\n",
      " 70  share_of_temperature_change_from_ghg       41001 non-null  float64\n",
      " 71  temperature_change_from_ch4                38060 non-null  float64\n",
      " 72  temperature_change_from_co2                41001 non-null  float64\n",
      " 73  temperature_change_from_ghg                41001 non-null  float64\n",
      " 74  temperature_change_from_n2o                38060 non-null  float64\n",
      " 75  total_ghg                                  37410 non-null  float64\n",
      " 76  total_ghg_excluding_lucf                   37236 non-null  float64\n",
      " 77  trade_co2                                  4535 non-null   float64\n",
      " 78  trade_co2_share                            4535 non-null   float64\n",
      "dtypes: float64(76), int64(1), object(2)\n",
      "memory usage: 30.3+ MB\n"
     ]
    }
   ],
   "source": [
    "df.info()"
   ]
  },
  {
   "cell_type": "markdown",
   "id": "2d8a9273-b587-4ff8-800e-54dc328bd674",
   "metadata": {},
   "source": [
    "## Data Cleaning"
   ]
  },
  {
   "cell_type": "code",
   "execution_count": 154,
   "id": "d5e8fc9b-49ee-41d0-83e4-729ad42ba134",
   "metadata": {},
   "outputs": [],
   "source": [
    "missing_ratio=df.isna().mean()"
   ]
  },
  {
   "cell_type": "code",
   "execution_count": 155,
   "id": "4074b860-7d88-4f08-aebb-b1ad9fb09083",
   "metadata": {},
   "outputs": [
    {
     "data": {
      "text/plain": [
       "country       0.000000\n",
       "year          0.000000\n",
       "iso_code      0.157977\n",
       "population    0.182742\n",
       "gdp           0.696141\n",
       "dtype: float64"
      ]
     },
     "execution_count": 155,
     "metadata": {},
     "output_type": "execute_result"
    }
   ],
   "source": [
    "missing_ratio.head()"
   ]
  },
  {
   "cell_type": "code",
   "execution_count": 156,
   "id": "4f21ad70-752a-4e50-a31a-743c2a9006de",
   "metadata": {},
   "outputs": [
    {
     "name": "stdout",
     "output_type": "stream",
     "text": [
      "colums dropped20, Remaining:59\n"
     ]
    }
   ],
   "source": [
    "cols_to_drop=missing_ratio[missing_ratio>0.7].index.tolist()\n",
    "df1=df.drop(columns=cols_to_drop)\n",
    "print(f'colums dropped{len(cols_to_drop)}, Remaining:{df1.shape[1]}')"
   ]
  },
  {
   "cell_type": "code",
   "execution_count": 157,
   "id": "5194614d-0cc8-40e9-838d-e111f031f1f3",
   "metadata": {},
   "outputs": [],
   "source": [
    "numeric_cols=df1.select_dtypes(include=np.number).columns.tolist()"
   ]
  },
  {
   "cell_type": "code",
   "execution_count": 158,
   "id": "6a6319b9-ed03-4be2-810e-673d684d94b9",
   "metadata": {},
   "outputs": [
    {
     "data": {
      "text/plain": [
       "['year',\n",
       " 'population',\n",
       " 'gdp',\n",
       " 'cement_co2',\n",
       " 'cement_co2_per_capita',\n",
       " 'co2',\n",
       " 'co2_growth_abs',\n",
       " 'co2_growth_prct',\n",
       " 'co2_including_luc',\n",
       " 'co2_including_luc_growth_abs',\n",
       " 'co2_including_luc_growth_prct',\n",
       " 'co2_including_luc_per_capita',\n",
       " 'co2_including_luc_per_gdp',\n",
       " 'co2_per_capita',\n",
       " 'co2_per_gdp',\n",
       " 'coal_co2',\n",
       " 'coal_co2_per_capita',\n",
       " 'cumulative_cement_co2',\n",
       " 'cumulative_co2',\n",
       " 'cumulative_co2_including_luc',\n",
       " 'cumulative_coal_co2',\n",
       " 'cumulative_flaring_co2',\n",
       " 'cumulative_gas_co2',\n",
       " 'cumulative_luc_co2',\n",
       " 'cumulative_oil_co2',\n",
       " 'flaring_co2',\n",
       " 'gas_co2',\n",
       " 'gas_co2_per_capita',\n",
       " 'ghg_excluding_lucf_per_capita',\n",
       " 'ghg_per_capita',\n",
       " 'land_use_change_co2',\n",
       " 'land_use_change_co2_per_capita',\n",
       " 'methane',\n",
       " 'methane_per_capita',\n",
       " 'nitrous_oxide',\n",
       " 'nitrous_oxide_per_capita',\n",
       " 'oil_co2',\n",
       " 'oil_co2_per_capita',\n",
       " 'share_global_cement_co2',\n",
       " 'share_global_co2',\n",
       " 'share_global_co2_including_luc',\n",
       " 'share_global_coal_co2',\n",
       " 'share_global_cumulative_cement_co2',\n",
       " 'share_global_cumulative_co2',\n",
       " 'share_global_cumulative_co2_including_luc',\n",
       " 'share_global_cumulative_coal_co2',\n",
       " 'share_global_cumulative_luc_co2',\n",
       " 'share_global_cumulative_oil_co2',\n",
       " 'share_global_luc_co2',\n",
       " 'share_global_oil_co2',\n",
       " 'share_of_temperature_change_from_ghg',\n",
       " 'temperature_change_from_ch4',\n",
       " 'temperature_change_from_co2',\n",
       " 'temperature_change_from_ghg',\n",
       " 'temperature_change_from_n2o',\n",
       " 'total_ghg',\n",
       " 'total_ghg_excluding_lucf']"
      ]
     },
     "execution_count": 158,
     "metadata": {},
     "output_type": "execute_result"
    }
   ],
   "source": [
    "numeric_cols"
   ]
  },
  {
   "cell_type": "markdown",
   "id": "4f59f5ab-feac-496c-82c8-a36a5a56fdb1",
   "metadata": {},
   "source": [
    "#### Interpolation"
   ]
  },
  {
   "cell_type": "code",
   "execution_count": 159,
   "id": "621f6653-acf3-4ab5-820e-ce432853a73b",
   "metadata": {},
   "outputs": [],
   "source": [
    "df1[numeric_cols]=df1.groupby('country')[numeric_cols].transform(lambda group : group.interpolate(limit_direction='both'))"
   ]
  },
  {
   "cell_type": "code",
   "execution_count": 160,
   "id": "476af0bc-6a62-425b-a38d-a217e7725d96",
   "metadata": {},
   "outputs": [
    {
     "data": {
      "text/html": [
       "<div>\n",
       "<style scoped>\n",
       "    .dataframe tbody tr th:only-of-type {\n",
       "        vertical-align: middle;\n",
       "    }\n",
       "\n",
       "    .dataframe tbody tr th {\n",
       "        vertical-align: top;\n",
       "    }\n",
       "\n",
       "    .dataframe thead th {\n",
       "        text-align: right;\n",
       "    }\n",
       "</style>\n",
       "<table border=\"1\" class=\"dataframe\">\n",
       "  <thead>\n",
       "    <tr style=\"text-align: right;\">\n",
       "      <th></th>\n",
       "      <th>country</th>\n",
       "      <th>year</th>\n",
       "      <th>iso_code</th>\n",
       "      <th>population</th>\n",
       "      <th>gdp</th>\n",
       "      <th>cement_co2</th>\n",
       "      <th>cement_co2_per_capita</th>\n",
       "      <th>co2</th>\n",
       "      <th>co2_growth_abs</th>\n",
       "      <th>co2_growth_prct</th>\n",
       "      <th>...</th>\n",
       "      <th>share_global_cumulative_oil_co2</th>\n",
       "      <th>share_global_luc_co2</th>\n",
       "      <th>share_global_oil_co2</th>\n",
       "      <th>share_of_temperature_change_from_ghg</th>\n",
       "      <th>temperature_change_from_ch4</th>\n",
       "      <th>temperature_change_from_co2</th>\n",
       "      <th>temperature_change_from_ghg</th>\n",
       "      <th>temperature_change_from_n2o</th>\n",
       "      <th>total_ghg</th>\n",
       "      <th>total_ghg_excluding_lucf</th>\n",
       "    </tr>\n",
       "  </thead>\n",
       "  <tbody>\n",
       "    <tr>\n",
       "      <th>0</th>\n",
       "      <td>Afghanistan</td>\n",
       "      <td>1750</td>\n",
       "      <td>AFG</td>\n",
       "      <td>2802560.0</td>\n",
       "      <td>9.421400e+09</td>\n",
       "      <td>0.000</td>\n",
       "      <td>0.000</td>\n",
       "      <td>0.015</td>\n",
       "      <td>0.070</td>\n",
       "      <td>475.000</td>\n",
       "      <td>...</td>\n",
       "      <td>0.000</td>\n",
       "      <td>0.113</td>\n",
       "      <td>0.000</td>\n",
       "      <td>0.156</td>\n",
       "      <td>0.000</td>\n",
       "      <td>0.000</td>\n",
       "      <td>0.000</td>\n",
       "      <td>0.0</td>\n",
       "      <td>7.436</td>\n",
       "      <td>0.629</td>\n",
       "    </tr>\n",
       "    <tr>\n",
       "      <th>1</th>\n",
       "      <td>Afghanistan</td>\n",
       "      <td>1751</td>\n",
       "      <td>AFG</td>\n",
       "      <td>2808929.5</td>\n",
       "      <td>9.421400e+09</td>\n",
       "      <td>0.000</td>\n",
       "      <td>0.000</td>\n",
       "      <td>0.015</td>\n",
       "      <td>0.070</td>\n",
       "      <td>475.000</td>\n",
       "      <td>...</td>\n",
       "      <td>0.000</td>\n",
       "      <td>0.113</td>\n",
       "      <td>0.000</td>\n",
       "      <td>0.156</td>\n",
       "      <td>0.000</td>\n",
       "      <td>0.000</td>\n",
       "      <td>0.000</td>\n",
       "      <td>0.0</td>\n",
       "      <td>7.436</td>\n",
       "      <td>0.629</td>\n",
       "    </tr>\n",
       "    <tr>\n",
       "      <th>2</th>\n",
       "      <td>Afghanistan</td>\n",
       "      <td>1752</td>\n",
       "      <td>AFG</td>\n",
       "      <td>2815299.0</td>\n",
       "      <td>9.421400e+09</td>\n",
       "      <td>0.000</td>\n",
       "      <td>0.000</td>\n",
       "      <td>0.015</td>\n",
       "      <td>0.070</td>\n",
       "      <td>475.000</td>\n",
       "      <td>...</td>\n",
       "      <td>0.000</td>\n",
       "      <td>0.113</td>\n",
       "      <td>0.000</td>\n",
       "      <td>0.156</td>\n",
       "      <td>0.000</td>\n",
       "      <td>0.000</td>\n",
       "      <td>0.000</td>\n",
       "      <td>0.0</td>\n",
       "      <td>7.436</td>\n",
       "      <td>0.629</td>\n",
       "    </tr>\n",
       "    <tr>\n",
       "      <th>3</th>\n",
       "      <td>Afghanistan</td>\n",
       "      <td>1753</td>\n",
       "      <td>AFG</td>\n",
       "      <td>2821668.5</td>\n",
       "      <td>9.421400e+09</td>\n",
       "      <td>0.000</td>\n",
       "      <td>0.000</td>\n",
       "      <td>0.015</td>\n",
       "      <td>0.070</td>\n",
       "      <td>475.000</td>\n",
       "      <td>...</td>\n",
       "      <td>0.000</td>\n",
       "      <td>0.113</td>\n",
       "      <td>0.000</td>\n",
       "      <td>0.156</td>\n",
       "      <td>0.000</td>\n",
       "      <td>0.000</td>\n",
       "      <td>0.000</td>\n",
       "      <td>0.0</td>\n",
       "      <td>7.436</td>\n",
       "      <td>0.629</td>\n",
       "    </tr>\n",
       "    <tr>\n",
       "      <th>4</th>\n",
       "      <td>Afghanistan</td>\n",
       "      <td>1754</td>\n",
       "      <td>AFG</td>\n",
       "      <td>2828038.0</td>\n",
       "      <td>9.421400e+09</td>\n",
       "      <td>0.000</td>\n",
       "      <td>0.000</td>\n",
       "      <td>0.015</td>\n",
       "      <td>0.070</td>\n",
       "      <td>475.000</td>\n",
       "      <td>...</td>\n",
       "      <td>0.000</td>\n",
       "      <td>0.113</td>\n",
       "      <td>0.000</td>\n",
       "      <td>0.156</td>\n",
       "      <td>0.000</td>\n",
       "      <td>0.000</td>\n",
       "      <td>0.000</td>\n",
       "      <td>0.0</td>\n",
       "      <td>7.436</td>\n",
       "      <td>0.629</td>\n",
       "    </tr>\n",
       "    <tr>\n",
       "      <th>...</th>\n",
       "      <td>...</td>\n",
       "      <td>...</td>\n",
       "      <td>...</td>\n",
       "      <td>...</td>\n",
       "      <td>...</td>\n",
       "      <td>...</td>\n",
       "      <td>...</td>\n",
       "      <td>...</td>\n",
       "      <td>...</td>\n",
       "      <td>...</td>\n",
       "      <td>...</td>\n",
       "      <td>...</td>\n",
       "      <td>...</td>\n",
       "      <td>...</td>\n",
       "      <td>...</td>\n",
       "      <td>...</td>\n",
       "      <td>...</td>\n",
       "      <td>...</td>\n",
       "      <td>...</td>\n",
       "      <td>...</td>\n",
       "      <td>...</td>\n",
       "    </tr>\n",
       "    <tr>\n",
       "      <th>50186</th>\n",
       "      <td>Zimbabwe</td>\n",
       "      <td>2019</td>\n",
       "      <td>ZWE</td>\n",
       "      <td>15271377.0</td>\n",
       "      <td>2.514642e+10</td>\n",
       "      <td>0.473</td>\n",
       "      <td>0.031</td>\n",
       "      <td>10.263</td>\n",
       "      <td>-0.942</td>\n",
       "      <td>-8.411</td>\n",
       "      <td>...</td>\n",
       "      <td>0.025</td>\n",
       "      <td>0.252</td>\n",
       "      <td>0.030</td>\n",
       "      <td>0.106</td>\n",
       "      <td>0.001</td>\n",
       "      <td>0.001</td>\n",
       "      <td>0.002</td>\n",
       "      <td>0.0</td>\n",
       "      <td>34.348</td>\n",
       "      <td>17.531</td>\n",
       "    </tr>\n",
       "    <tr>\n",
       "      <th>50187</th>\n",
       "      <td>Zimbabwe</td>\n",
       "      <td>2020</td>\n",
       "      <td>ZWE</td>\n",
       "      <td>15526888.0</td>\n",
       "      <td>2.317871e+10</td>\n",
       "      <td>0.496</td>\n",
       "      <td>0.032</td>\n",
       "      <td>8.495</td>\n",
       "      <td>-1.768</td>\n",
       "      <td>-17.231</td>\n",
       "      <td>...</td>\n",
       "      <td>0.025</td>\n",
       "      <td>0.260</td>\n",
       "      <td>0.028</td>\n",
       "      <td>0.105</td>\n",
       "      <td>0.001</td>\n",
       "      <td>0.001</td>\n",
       "      <td>0.002</td>\n",
       "      <td>0.0</td>\n",
       "      <td>31.323</td>\n",
       "      <td>15.775</td>\n",
       "    </tr>\n",
       "    <tr>\n",
       "      <th>50188</th>\n",
       "      <td>Zimbabwe</td>\n",
       "      <td>2021</td>\n",
       "      <td>ZWE</td>\n",
       "      <td>15797220.0</td>\n",
       "      <td>2.514009e+10</td>\n",
       "      <td>0.531</td>\n",
       "      <td>0.034</td>\n",
       "      <td>10.204</td>\n",
       "      <td>1.709</td>\n",
       "      <td>20.120</td>\n",
       "      <td>...</td>\n",
       "      <td>0.025</td>\n",
       "      <td>0.241</td>\n",
       "      <td>0.032</td>\n",
       "      <td>0.104</td>\n",
       "      <td>0.001</td>\n",
       "      <td>0.001</td>\n",
       "      <td>0.002</td>\n",
       "      <td>0.0</td>\n",
       "      <td>33.549</td>\n",
       "      <td>17.599</td>\n",
       "    </tr>\n",
       "    <tr>\n",
       "      <th>50189</th>\n",
       "      <td>Zimbabwe</td>\n",
       "      <td>2022</td>\n",
       "      <td>ZWE</td>\n",
       "      <td>16069061.0</td>\n",
       "      <td>2.590159e+10</td>\n",
       "      <td>0.531</td>\n",
       "      <td>0.033</td>\n",
       "      <td>10.425</td>\n",
       "      <td>0.221</td>\n",
       "      <td>2.169</td>\n",
       "      <td>...</td>\n",
       "      <td>0.025</td>\n",
       "      <td>0.227</td>\n",
       "      <td>0.028</td>\n",
       "      <td>0.103</td>\n",
       "      <td>0.001</td>\n",
       "      <td>0.001</td>\n",
       "      <td>0.002</td>\n",
       "      <td>0.0</td>\n",
       "      <td>33.772</td>\n",
       "      <td>17.910</td>\n",
       "    </tr>\n",
       "    <tr>\n",
       "      <th>50190</th>\n",
       "      <td>Zimbabwe</td>\n",
       "      <td>2023</td>\n",
       "      <td>ZWE</td>\n",
       "      <td>16340829.0</td>\n",
       "      <td>2.590159e+10</td>\n",
       "      <td>0.531</td>\n",
       "      <td>0.032</td>\n",
       "      <td>11.164</td>\n",
       "      <td>0.739</td>\n",
       "      <td>7.090</td>\n",
       "      <td>...</td>\n",
       "      <td>0.025</td>\n",
       "      <td>0.204</td>\n",
       "      <td>0.028</td>\n",
       "      <td>0.102</td>\n",
       "      <td>0.001</td>\n",
       "      <td>0.001</td>\n",
       "      <td>0.002</td>\n",
       "      <td>0.0</td>\n",
       "      <td>33.955</td>\n",
       "      <td>18.608</td>\n",
       "    </tr>\n",
       "  </tbody>\n",
       "</table>\n",
       "<p>50191 rows × 59 columns</p>\n",
       "</div>"
      ],
      "text/plain": [
       "           country  year iso_code  population           gdp  cement_co2  \\\n",
       "0      Afghanistan  1750      AFG   2802560.0  9.421400e+09       0.000   \n",
       "1      Afghanistan  1751      AFG   2808929.5  9.421400e+09       0.000   \n",
       "2      Afghanistan  1752      AFG   2815299.0  9.421400e+09       0.000   \n",
       "3      Afghanistan  1753      AFG   2821668.5  9.421400e+09       0.000   \n",
       "4      Afghanistan  1754      AFG   2828038.0  9.421400e+09       0.000   \n",
       "...            ...   ...      ...         ...           ...         ...   \n",
       "50186     Zimbabwe  2019      ZWE  15271377.0  2.514642e+10       0.473   \n",
       "50187     Zimbabwe  2020      ZWE  15526888.0  2.317871e+10       0.496   \n",
       "50188     Zimbabwe  2021      ZWE  15797220.0  2.514009e+10       0.531   \n",
       "50189     Zimbabwe  2022      ZWE  16069061.0  2.590159e+10       0.531   \n",
       "50190     Zimbabwe  2023      ZWE  16340829.0  2.590159e+10       0.531   \n",
       "\n",
       "       cement_co2_per_capita     co2  co2_growth_abs  co2_growth_prct  ...  \\\n",
       "0                      0.000   0.015           0.070          475.000  ...   \n",
       "1                      0.000   0.015           0.070          475.000  ...   \n",
       "2                      0.000   0.015           0.070          475.000  ...   \n",
       "3                      0.000   0.015           0.070          475.000  ...   \n",
       "4                      0.000   0.015           0.070          475.000  ...   \n",
       "...                      ...     ...             ...              ...  ...   \n",
       "50186                  0.031  10.263          -0.942           -8.411  ...   \n",
       "50187                  0.032   8.495          -1.768          -17.231  ...   \n",
       "50188                  0.034  10.204           1.709           20.120  ...   \n",
       "50189                  0.033  10.425           0.221            2.169  ...   \n",
       "50190                  0.032  11.164           0.739            7.090  ...   \n",
       "\n",
       "       share_global_cumulative_oil_co2  share_global_luc_co2  \\\n",
       "0                                0.000                 0.113   \n",
       "1                                0.000                 0.113   \n",
       "2                                0.000                 0.113   \n",
       "3                                0.000                 0.113   \n",
       "4                                0.000                 0.113   \n",
       "...                                ...                   ...   \n",
       "50186                            0.025                 0.252   \n",
       "50187                            0.025                 0.260   \n",
       "50188                            0.025                 0.241   \n",
       "50189                            0.025                 0.227   \n",
       "50190                            0.025                 0.204   \n",
       "\n",
       "       share_global_oil_co2  share_of_temperature_change_from_ghg  \\\n",
       "0                     0.000                                 0.156   \n",
       "1                     0.000                                 0.156   \n",
       "2                     0.000                                 0.156   \n",
       "3                     0.000                                 0.156   \n",
       "4                     0.000                                 0.156   \n",
       "...                     ...                                   ...   \n",
       "50186                 0.030                                 0.106   \n",
       "50187                 0.028                                 0.105   \n",
       "50188                 0.032                                 0.104   \n",
       "50189                 0.028                                 0.103   \n",
       "50190                 0.028                                 0.102   \n",
       "\n",
       "       temperature_change_from_ch4  temperature_change_from_co2  \\\n",
       "0                            0.000                        0.000   \n",
       "1                            0.000                        0.000   \n",
       "2                            0.000                        0.000   \n",
       "3                            0.000                        0.000   \n",
       "4                            0.000                        0.000   \n",
       "...                            ...                          ...   \n",
       "50186                        0.001                        0.001   \n",
       "50187                        0.001                        0.001   \n",
       "50188                        0.001                        0.001   \n",
       "50189                        0.001                        0.001   \n",
       "50190                        0.001                        0.001   \n",
       "\n",
       "       temperature_change_from_ghg  temperature_change_from_n2o  total_ghg  \\\n",
       "0                            0.000                          0.0      7.436   \n",
       "1                            0.000                          0.0      7.436   \n",
       "2                            0.000                          0.0      7.436   \n",
       "3                            0.000                          0.0      7.436   \n",
       "4                            0.000                          0.0      7.436   \n",
       "...                            ...                          ...        ...   \n",
       "50186                        0.002                          0.0     34.348   \n",
       "50187                        0.002                          0.0     31.323   \n",
       "50188                        0.002                          0.0     33.549   \n",
       "50189                        0.002                          0.0     33.772   \n",
       "50190                        0.002                          0.0     33.955   \n",
       "\n",
       "       total_ghg_excluding_lucf  \n",
       "0                         0.629  \n",
       "1                         0.629  \n",
       "2                         0.629  \n",
       "3                         0.629  \n",
       "4                         0.629  \n",
       "...                         ...  \n",
       "50186                    17.531  \n",
       "50187                    15.775  \n",
       "50188                    17.599  \n",
       "50189                    17.910  \n",
       "50190                    18.608  \n",
       "\n",
       "[50191 rows x 59 columns]"
      ]
     },
     "execution_count": 160,
     "metadata": {},
     "output_type": "execute_result"
    }
   ],
   "source": [
    "df1"
   ]
  },
  {
   "cell_type": "code",
   "execution_count": 161,
   "id": "970e2f21-6f5a-4df5-a559-c5c7414ffa05",
   "metadata": {},
   "outputs": [],
   "source": [
    "df1['country']=df1['country'].str.strip()"
   ]
  },
  {
   "cell_type": "code",
   "execution_count": 162,
   "id": "5bc6b947-0a20-46eb-97bf-b11ab6db8f5b",
   "metadata": {},
   "outputs": [],
   "source": [
    "regions = ['World', 'Asia', 'Europe', 'Africa', 'North America', 'South America', 'European Union', 'International Transport']"
   ]
  },
  {
   "cell_type": "code",
   "execution_count": 163,
   "id": "67e05217-2e1a-4d7d-9874-02a2cf36a2f6",
   "metadata": {},
   "outputs": [
    {
     "data": {
      "text/plain": [
       "['World',\n",
       " 'Asia',\n",
       " 'Europe',\n",
       " 'Africa',\n",
       " 'North America',\n",
       " 'South America',\n",
       " 'European Union',\n",
       " 'International Transport']"
      ]
     },
     "execution_count": 163,
     "metadata": {},
     "output_type": "execute_result"
    }
   ],
   "source": [
    "regions"
   ]
  },
  {
   "cell_type": "code",
   "execution_count": 164,
   "id": "0bb24204-cf87-4fb6-b5cc-8a2222594d13",
   "metadata": {},
   "outputs": [],
   "source": [
    "df1=df1[~df1['country'].isin(regions)]"
   ]
  },
  {
   "cell_type": "code",
   "execution_count": 165,
   "id": "b5409ec2-1208-4802-bf7e-27935cfb8c97",
   "metadata": {},
   "outputs": [
    {
     "data": {
      "text/html": [
       "<div>\n",
       "<style scoped>\n",
       "    .dataframe tbody tr th:only-of-type {\n",
       "        vertical-align: middle;\n",
       "    }\n",
       "\n",
       "    .dataframe tbody tr th {\n",
       "        vertical-align: top;\n",
       "    }\n",
       "\n",
       "    .dataframe thead th {\n",
       "        text-align: right;\n",
       "    }\n",
       "</style>\n",
       "<table border=\"1\" class=\"dataframe\">\n",
       "  <thead>\n",
       "    <tr style=\"text-align: right;\">\n",
       "      <th></th>\n",
       "      <th>country</th>\n",
       "      <th>year</th>\n",
       "      <th>iso_code</th>\n",
       "      <th>population</th>\n",
       "      <th>gdp</th>\n",
       "      <th>cement_co2</th>\n",
       "      <th>cement_co2_per_capita</th>\n",
       "      <th>co2</th>\n",
       "      <th>co2_growth_abs</th>\n",
       "      <th>co2_growth_prct</th>\n",
       "      <th>...</th>\n",
       "      <th>share_global_cumulative_oil_co2</th>\n",
       "      <th>share_global_luc_co2</th>\n",
       "      <th>share_global_oil_co2</th>\n",
       "      <th>share_of_temperature_change_from_ghg</th>\n",
       "      <th>temperature_change_from_ch4</th>\n",
       "      <th>temperature_change_from_co2</th>\n",
       "      <th>temperature_change_from_ghg</th>\n",
       "      <th>temperature_change_from_n2o</th>\n",
       "      <th>total_ghg</th>\n",
       "      <th>total_ghg_excluding_lucf</th>\n",
       "    </tr>\n",
       "  </thead>\n",
       "  <tbody>\n",
       "    <tr>\n",
       "      <th>0</th>\n",
       "      <td>Afghanistan</td>\n",
       "      <td>1750</td>\n",
       "      <td>AFG</td>\n",
       "      <td>2802560.0</td>\n",
       "      <td>9.421400e+09</td>\n",
       "      <td>0.000</td>\n",
       "      <td>0.000</td>\n",
       "      <td>0.015</td>\n",
       "      <td>0.070</td>\n",
       "      <td>475.000</td>\n",
       "      <td>...</td>\n",
       "      <td>0.000</td>\n",
       "      <td>0.113</td>\n",
       "      <td>0.000</td>\n",
       "      <td>0.156</td>\n",
       "      <td>0.000</td>\n",
       "      <td>0.000</td>\n",
       "      <td>0.000</td>\n",
       "      <td>0.0</td>\n",
       "      <td>7.436</td>\n",
       "      <td>0.629</td>\n",
       "    </tr>\n",
       "    <tr>\n",
       "      <th>1</th>\n",
       "      <td>Afghanistan</td>\n",
       "      <td>1751</td>\n",
       "      <td>AFG</td>\n",
       "      <td>2808929.5</td>\n",
       "      <td>9.421400e+09</td>\n",
       "      <td>0.000</td>\n",
       "      <td>0.000</td>\n",
       "      <td>0.015</td>\n",
       "      <td>0.070</td>\n",
       "      <td>475.000</td>\n",
       "      <td>...</td>\n",
       "      <td>0.000</td>\n",
       "      <td>0.113</td>\n",
       "      <td>0.000</td>\n",
       "      <td>0.156</td>\n",
       "      <td>0.000</td>\n",
       "      <td>0.000</td>\n",
       "      <td>0.000</td>\n",
       "      <td>0.0</td>\n",
       "      <td>7.436</td>\n",
       "      <td>0.629</td>\n",
       "    </tr>\n",
       "    <tr>\n",
       "      <th>2</th>\n",
       "      <td>Afghanistan</td>\n",
       "      <td>1752</td>\n",
       "      <td>AFG</td>\n",
       "      <td>2815299.0</td>\n",
       "      <td>9.421400e+09</td>\n",
       "      <td>0.000</td>\n",
       "      <td>0.000</td>\n",
       "      <td>0.015</td>\n",
       "      <td>0.070</td>\n",
       "      <td>475.000</td>\n",
       "      <td>...</td>\n",
       "      <td>0.000</td>\n",
       "      <td>0.113</td>\n",
       "      <td>0.000</td>\n",
       "      <td>0.156</td>\n",
       "      <td>0.000</td>\n",
       "      <td>0.000</td>\n",
       "      <td>0.000</td>\n",
       "      <td>0.0</td>\n",
       "      <td>7.436</td>\n",
       "      <td>0.629</td>\n",
       "    </tr>\n",
       "    <tr>\n",
       "      <th>3</th>\n",
       "      <td>Afghanistan</td>\n",
       "      <td>1753</td>\n",
       "      <td>AFG</td>\n",
       "      <td>2821668.5</td>\n",
       "      <td>9.421400e+09</td>\n",
       "      <td>0.000</td>\n",
       "      <td>0.000</td>\n",
       "      <td>0.015</td>\n",
       "      <td>0.070</td>\n",
       "      <td>475.000</td>\n",
       "      <td>...</td>\n",
       "      <td>0.000</td>\n",
       "      <td>0.113</td>\n",
       "      <td>0.000</td>\n",
       "      <td>0.156</td>\n",
       "      <td>0.000</td>\n",
       "      <td>0.000</td>\n",
       "      <td>0.000</td>\n",
       "      <td>0.0</td>\n",
       "      <td>7.436</td>\n",
       "      <td>0.629</td>\n",
       "    </tr>\n",
       "    <tr>\n",
       "      <th>4</th>\n",
       "      <td>Afghanistan</td>\n",
       "      <td>1754</td>\n",
       "      <td>AFG</td>\n",
       "      <td>2828038.0</td>\n",
       "      <td>9.421400e+09</td>\n",
       "      <td>0.000</td>\n",
       "      <td>0.000</td>\n",
       "      <td>0.015</td>\n",
       "      <td>0.070</td>\n",
       "      <td>475.000</td>\n",
       "      <td>...</td>\n",
       "      <td>0.000</td>\n",
       "      <td>0.113</td>\n",
       "      <td>0.000</td>\n",
       "      <td>0.156</td>\n",
       "      <td>0.000</td>\n",
       "      <td>0.000</td>\n",
       "      <td>0.000</td>\n",
       "      <td>0.0</td>\n",
       "      <td>7.436</td>\n",
       "      <td>0.629</td>\n",
       "    </tr>\n",
       "    <tr>\n",
       "      <th>...</th>\n",
       "      <td>...</td>\n",
       "      <td>...</td>\n",
       "      <td>...</td>\n",
       "      <td>...</td>\n",
       "      <td>...</td>\n",
       "      <td>...</td>\n",
       "      <td>...</td>\n",
       "      <td>...</td>\n",
       "      <td>...</td>\n",
       "      <td>...</td>\n",
       "      <td>...</td>\n",
       "      <td>...</td>\n",
       "      <td>...</td>\n",
       "      <td>...</td>\n",
       "      <td>...</td>\n",
       "      <td>...</td>\n",
       "      <td>...</td>\n",
       "      <td>...</td>\n",
       "      <td>...</td>\n",
       "      <td>...</td>\n",
       "      <td>...</td>\n",
       "    </tr>\n",
       "    <tr>\n",
       "      <th>50186</th>\n",
       "      <td>Zimbabwe</td>\n",
       "      <td>2019</td>\n",
       "      <td>ZWE</td>\n",
       "      <td>15271377.0</td>\n",
       "      <td>2.514642e+10</td>\n",
       "      <td>0.473</td>\n",
       "      <td>0.031</td>\n",
       "      <td>10.263</td>\n",
       "      <td>-0.942</td>\n",
       "      <td>-8.411</td>\n",
       "      <td>...</td>\n",
       "      <td>0.025</td>\n",
       "      <td>0.252</td>\n",
       "      <td>0.030</td>\n",
       "      <td>0.106</td>\n",
       "      <td>0.001</td>\n",
       "      <td>0.001</td>\n",
       "      <td>0.002</td>\n",
       "      <td>0.0</td>\n",
       "      <td>34.348</td>\n",
       "      <td>17.531</td>\n",
       "    </tr>\n",
       "    <tr>\n",
       "      <th>50187</th>\n",
       "      <td>Zimbabwe</td>\n",
       "      <td>2020</td>\n",
       "      <td>ZWE</td>\n",
       "      <td>15526888.0</td>\n",
       "      <td>2.317871e+10</td>\n",
       "      <td>0.496</td>\n",
       "      <td>0.032</td>\n",
       "      <td>8.495</td>\n",
       "      <td>-1.768</td>\n",
       "      <td>-17.231</td>\n",
       "      <td>...</td>\n",
       "      <td>0.025</td>\n",
       "      <td>0.260</td>\n",
       "      <td>0.028</td>\n",
       "      <td>0.105</td>\n",
       "      <td>0.001</td>\n",
       "      <td>0.001</td>\n",
       "      <td>0.002</td>\n",
       "      <td>0.0</td>\n",
       "      <td>31.323</td>\n",
       "      <td>15.775</td>\n",
       "    </tr>\n",
       "    <tr>\n",
       "      <th>50188</th>\n",
       "      <td>Zimbabwe</td>\n",
       "      <td>2021</td>\n",
       "      <td>ZWE</td>\n",
       "      <td>15797220.0</td>\n",
       "      <td>2.514009e+10</td>\n",
       "      <td>0.531</td>\n",
       "      <td>0.034</td>\n",
       "      <td>10.204</td>\n",
       "      <td>1.709</td>\n",
       "      <td>20.120</td>\n",
       "      <td>...</td>\n",
       "      <td>0.025</td>\n",
       "      <td>0.241</td>\n",
       "      <td>0.032</td>\n",
       "      <td>0.104</td>\n",
       "      <td>0.001</td>\n",
       "      <td>0.001</td>\n",
       "      <td>0.002</td>\n",
       "      <td>0.0</td>\n",
       "      <td>33.549</td>\n",
       "      <td>17.599</td>\n",
       "    </tr>\n",
       "    <tr>\n",
       "      <th>50189</th>\n",
       "      <td>Zimbabwe</td>\n",
       "      <td>2022</td>\n",
       "      <td>ZWE</td>\n",
       "      <td>16069061.0</td>\n",
       "      <td>2.590159e+10</td>\n",
       "      <td>0.531</td>\n",
       "      <td>0.033</td>\n",
       "      <td>10.425</td>\n",
       "      <td>0.221</td>\n",
       "      <td>2.169</td>\n",
       "      <td>...</td>\n",
       "      <td>0.025</td>\n",
       "      <td>0.227</td>\n",
       "      <td>0.028</td>\n",
       "      <td>0.103</td>\n",
       "      <td>0.001</td>\n",
       "      <td>0.001</td>\n",
       "      <td>0.002</td>\n",
       "      <td>0.0</td>\n",
       "      <td>33.772</td>\n",
       "      <td>17.910</td>\n",
       "    </tr>\n",
       "    <tr>\n",
       "      <th>50190</th>\n",
       "      <td>Zimbabwe</td>\n",
       "      <td>2023</td>\n",
       "      <td>ZWE</td>\n",
       "      <td>16340829.0</td>\n",
       "      <td>2.590159e+10</td>\n",
       "      <td>0.531</td>\n",
       "      <td>0.032</td>\n",
       "      <td>11.164</td>\n",
       "      <td>0.739</td>\n",
       "      <td>7.090</td>\n",
       "      <td>...</td>\n",
       "      <td>0.025</td>\n",
       "      <td>0.204</td>\n",
       "      <td>0.028</td>\n",
       "      <td>0.102</td>\n",
       "      <td>0.001</td>\n",
       "      <td>0.001</td>\n",
       "      <td>0.002</td>\n",
       "      <td>0.0</td>\n",
       "      <td>33.955</td>\n",
       "      <td>18.608</td>\n",
       "    </tr>\n",
       "  </tbody>\n",
       "</table>\n",
       "<p>48547 rows × 59 columns</p>\n",
       "</div>"
      ],
      "text/plain": [
       "           country  year iso_code  population           gdp  cement_co2  \\\n",
       "0      Afghanistan  1750      AFG   2802560.0  9.421400e+09       0.000   \n",
       "1      Afghanistan  1751      AFG   2808929.5  9.421400e+09       0.000   \n",
       "2      Afghanistan  1752      AFG   2815299.0  9.421400e+09       0.000   \n",
       "3      Afghanistan  1753      AFG   2821668.5  9.421400e+09       0.000   \n",
       "4      Afghanistan  1754      AFG   2828038.0  9.421400e+09       0.000   \n",
       "...            ...   ...      ...         ...           ...         ...   \n",
       "50186     Zimbabwe  2019      ZWE  15271377.0  2.514642e+10       0.473   \n",
       "50187     Zimbabwe  2020      ZWE  15526888.0  2.317871e+10       0.496   \n",
       "50188     Zimbabwe  2021      ZWE  15797220.0  2.514009e+10       0.531   \n",
       "50189     Zimbabwe  2022      ZWE  16069061.0  2.590159e+10       0.531   \n",
       "50190     Zimbabwe  2023      ZWE  16340829.0  2.590159e+10       0.531   \n",
       "\n",
       "       cement_co2_per_capita     co2  co2_growth_abs  co2_growth_prct  ...  \\\n",
       "0                      0.000   0.015           0.070          475.000  ...   \n",
       "1                      0.000   0.015           0.070          475.000  ...   \n",
       "2                      0.000   0.015           0.070          475.000  ...   \n",
       "3                      0.000   0.015           0.070          475.000  ...   \n",
       "4                      0.000   0.015           0.070          475.000  ...   \n",
       "...                      ...     ...             ...              ...  ...   \n",
       "50186                  0.031  10.263          -0.942           -8.411  ...   \n",
       "50187                  0.032   8.495          -1.768          -17.231  ...   \n",
       "50188                  0.034  10.204           1.709           20.120  ...   \n",
       "50189                  0.033  10.425           0.221            2.169  ...   \n",
       "50190                  0.032  11.164           0.739            7.090  ...   \n",
       "\n",
       "       share_global_cumulative_oil_co2  share_global_luc_co2  \\\n",
       "0                                0.000                 0.113   \n",
       "1                                0.000                 0.113   \n",
       "2                                0.000                 0.113   \n",
       "3                                0.000                 0.113   \n",
       "4                                0.000                 0.113   \n",
       "...                                ...                   ...   \n",
       "50186                            0.025                 0.252   \n",
       "50187                            0.025                 0.260   \n",
       "50188                            0.025                 0.241   \n",
       "50189                            0.025                 0.227   \n",
       "50190                            0.025                 0.204   \n",
       "\n",
       "       share_global_oil_co2  share_of_temperature_change_from_ghg  \\\n",
       "0                     0.000                                 0.156   \n",
       "1                     0.000                                 0.156   \n",
       "2                     0.000                                 0.156   \n",
       "3                     0.000                                 0.156   \n",
       "4                     0.000                                 0.156   \n",
       "...                     ...                                   ...   \n",
       "50186                 0.030                                 0.106   \n",
       "50187                 0.028                                 0.105   \n",
       "50188                 0.032                                 0.104   \n",
       "50189                 0.028                                 0.103   \n",
       "50190                 0.028                                 0.102   \n",
       "\n",
       "       temperature_change_from_ch4  temperature_change_from_co2  \\\n",
       "0                            0.000                        0.000   \n",
       "1                            0.000                        0.000   \n",
       "2                            0.000                        0.000   \n",
       "3                            0.000                        0.000   \n",
       "4                            0.000                        0.000   \n",
       "...                            ...                          ...   \n",
       "50186                        0.001                        0.001   \n",
       "50187                        0.001                        0.001   \n",
       "50188                        0.001                        0.001   \n",
       "50189                        0.001                        0.001   \n",
       "50190                        0.001                        0.001   \n",
       "\n",
       "       temperature_change_from_ghg  temperature_change_from_n2o  total_ghg  \\\n",
       "0                            0.000                          0.0      7.436   \n",
       "1                            0.000                          0.0      7.436   \n",
       "2                            0.000                          0.0      7.436   \n",
       "3                            0.000                          0.0      7.436   \n",
       "4                            0.000                          0.0      7.436   \n",
       "...                            ...                          ...        ...   \n",
       "50186                        0.002                          0.0     34.348   \n",
       "50187                        0.002                          0.0     31.323   \n",
       "50188                        0.002                          0.0     33.549   \n",
       "50189                        0.002                          0.0     33.772   \n",
       "50190                        0.002                          0.0     33.955   \n",
       "\n",
       "       total_ghg_excluding_lucf  \n",
       "0                         0.629  \n",
       "1                         0.629  \n",
       "2                         0.629  \n",
       "3                         0.629  \n",
       "4                         0.629  \n",
       "...                         ...  \n",
       "50186                    17.531  \n",
       "50187                    15.775  \n",
       "50188                    17.599  \n",
       "50189                    17.910  \n",
       "50190                    18.608  \n",
       "\n",
       "[48547 rows x 59 columns]"
      ]
     },
     "execution_count": 165,
     "metadata": {},
     "output_type": "execute_result"
    }
   ],
   "source": [
    "df1"
   ]
  },
  {
   "cell_type": "code",
   "execution_count": 166,
   "id": "dbc37dca-bb0d-41da-89cc-db02e37acec1",
   "metadata": {},
   "outputs": [],
   "source": [
    "import plotly.express as px"
   ]
  },
  {
   "cell_type": "markdown",
   "id": "c728d3ba-7dab-4f97-b460-cbe18d63b90e",
   "metadata": {},
   "source": [
    "## EDA"
   ]
  },
  {
   "cell_type": "code",
   "execution_count": 167,
   "id": "400fbca2-79ee-4146-8780-ecf1c1bbb0f0",
   "metadata": {},
   "outputs": [
    {
     "data": {
      "image/png": "[encoded data removed]",
      "text/plain": [
       "<Figure size 1200x600 with 1 Axes>"
      ]
     },
     "metadata": {},
     "output_type": "display_data"
    }
   ],
   "source": [
    "global_trend = df1.groupby('year')['co2'].sum().reset_index()\n",
    "plt.figure(figsize=(12,6))\n",
    "sns.lineplot(data=global_trend,x='year',y='co2',marker='*')\n",
    "plt.title('Global CO₂ Emissions Over Time')\n",
    "plt.ylabel('Million Tonnes')\n",
    "plt.grid(True)\n",
    "plt.tight_layout()\n",
    "plt.show()"
   ]
  },
  {
   "cell_type": "markdown",
   "id": "1e687384-b165-4d96-827f-1519b2dcc957",
   "metadata": {},
   "source": [
    "### Top emitters in recent years"
   ]
  },
  {
   "cell_type": "code",
   "execution_count": 168,
   "id": "735c051d-b682-4a2c-ace5-964a9e9a7ab8",
   "metadata": {},
   "outputs": [],
   "source": [
    "latest_year=df1['year'].max()"
   ]
  },
  {
   "cell_type": "code",
   "execution_count": 169,
   "id": "d3fc6c20-ba54-4f98-a7a7-39092baba742",
   "metadata": {},
   "outputs": [],
   "source": [
    "top_emitters=df1[df1['year']==latest_year].sort_values(by='co2', ascending=False).head(10)"
   ]
  },
  {
   "cell_type": "code",
   "execution_count": 170,
   "id": "9fa11e65-3059-48ee-a707-a798f8deadc0",
   "metadata": {},
   "outputs": [
    {
     "data": {
      "image/png": "[encoded data removed]",
      "text/plain": [
       "<Figure size 1000x600 with 1 Axes>"
      ]
     },
     "metadata": {},
     "output_type": "display_data"
    }
   ],
   "source": [
    "plt.figure(figsize=(10,6))\n",
    "sns.barplot(data=top_emitters,x='year',y='country',palette='Reds_r')\n",
    "plt.title(f'Top 10 CO₂ Emitters in {latest_year}')\n",
    "plt.xlabel('Million Tonnes')\n",
    "plt.tight_layout()\n",
    "plt.show()"
   ]
  },
  {
   "cell_type": "markdown",
   "id": "401c7aaa-deb4-47fa-ac43-d4f219b57113",
   "metadata": {},
   "source": [
    "## Heatmap of Key Correlations"
   ]
  },
  {
   "cell_type": "code",
   "execution_count": 171,
   "id": "512c8879-e3a8-4c53-a934-2ced387600e5",
   "metadata": {},
   "outputs": [
    {
     "data": {
      "image/png": "[encoded data removed]",
      "text/plain": [
       "<Figure size 1000x800 with 2 Axes>"
      ]
     },
     "metadata": {},
     "output_type": "display_data"
    }
   ],
   "source": [
    "metrics = ['co2', 'gdp', 'population', 'co2_per_capita', 'co2_per_gdp', 'energy_per_capita']\n",
    "corr = df[metrics].corr()\n",
    "\n",
    "plt.figure(figsize=(10,8))\n",
    "sns.heatmap(corr, annot=True, cmap='coolwarm')\n",
    "plt.title(\"Correlation Matrix\")\n",
    "plt.show()\n"
   ]
  },
  {
   "cell_type": "markdown",
   "id": "ebe461b2-5782-4fc5-985a-c514914270c2",
   "metadata": {},
   "source": [
    "###  CO₂ Over Time"
   ]
  },
  {
   "cell_type": "code",
   "execution_count": 172,
   "id": "14383ea4-864c-456d-ad68-3ced61e82b2b",
   "metadata": {},
   "outputs": [],
   "source": [
    "countries=['Kenya','USA','China']\n",
    "df_countries=df1[df1['country'].isin(countries)]"
   ]
  },
  {
   "cell_type": "code",
   "execution_count": 173,
   "id": "b2bf28e9-4dd5-4eb4-b3cb-3a212aa404bb",
   "metadata": {},
   "outputs": [
    {
     "data": {
      "image/png": "[encoded data removed]",
      "text/plain": [
       "<Figure size 1200x600 with 1 Axes>"
      ]
     },
     "metadata": {},
     "output_type": "display_data"
    }
   ],
   "source": [
    "plt.figure(figsize=(12,6))\n",
    "sns.lineplot(data=df_countries,x='year',y='co2',hue='country', marker='o')\n",
    "plt.title('Total CO₂ Emissions Over Time')\n",
    "plt.ylabel('Million Tonnes')\n",
    "plt.grid(True)\n",
    "plt.show()"
   ]
  },
  {
   "cell_type": "markdown",
   "id": "7eb0f48e-aeb7-480a-8338-7191906be5cd",
   "metadata": {},
   "source": [
    "### CO₂ Per Capita"
   ]
  },
  {
   "cell_type": "code",
   "execution_count": 174,
   "id": "9610ee9a-616d-44fc-8d38-25df82da402d",
   "metadata": {},
   "outputs": [
    {
     "data": {
      "image/png": "[encoded data removed]",
      "text/plain": [
       "<Figure size 1200x600 with 1 Axes>"
      ]
     },
     "metadata": {},
     "output_type": "display_data"
    }
   ],
   "source": [
    "plt.figure(figsize=(12,6))\n",
    "sns.lineplot(data=df_countries, x='year', y='co2_per_capita', hue='country', marker='o')\n",
    "plt.title('CO₂ Emissions Per Capita Over Time')\n",
    "plt.ylabel('Tonnes per Person')\n",
    "plt.grid(True)\n",
    "plt.show()"
   ]
  },
  {
   "cell_type": "markdown",
   "id": "fa1eeaaa-597e-499f-bd5b-d74e8bc6bd7d",
   "metadata": {},
   "source": [
    "### CO₂ per GDP (Emissions Efficiency)"
   ]
  },
  {
   "cell_type": "code",
   "execution_count": 175,
   "id": "c634b23b-5406-4f16-85b3-dcddf8a5e722",
   "metadata": {},
   "outputs": [
    {
     "data": {
      "image/png": "[encoded data removed]",
      "text/plain": [
       "<Figure size 1000x700 with 1 Axes>"
      ]
     },
     "metadata": {},
     "output_type": "display_data"
    }
   ],
   "source": [
    "plt.figure(figsize=(10,7))\n",
    "sns.lineplot(data=df_countries,x='year',y='co2_per_gdp',hue='country', marker='o')\n",
    "plt.title('CO₂ Emissions per GDP Over Time')\n",
    "plt.ylabel('Tonnes per Dollar (or unit)')\n",
    "plt.grid(True)\n",
    "plt.show()"
   ]
  },
  {
   "cell_type": "markdown",
   "id": "fd2bbee6-84b7-4c75-aba2-f900f1e3c8f2",
   "metadata": {},
   "source": [
    "### GDP vs CO₂ Per Capita"
   ]
  },
  {
   "cell_type": "code",
   "execution_count": 176,
   "id": "31a4b9fb-c361-44ff-b81a-392d99992a11",
   "metadata": {},
   "outputs": [
    {
     "data": {
      "application/vnd.plotly.v1+json": {
       "config": {
        "plotlyServerURL": "https://plot.ly"
       },
       "data": [
        {
         "hovertemplate": "<b>%{hovertext}</b><br><br>country=China<br>gdp=%{x}<br>co2_per_capita=%{y}<br>population=%{marker.size}<extra></extra>",
         "hovertext": [
          "China"
         ],
         "legendgroup": "China",
         "marker": {
          "color": "#636efa",
          "size": [
           1422584937
          ],
          "sizemode": "area",
          "sizeref": 3556462.3425,
          "symbol": "circle"
         },
         "mode": "markers",
         "name": "China",
         "orientation": "v",
         "showlegend": true,
         "type": "scatter",
         "x": [
          26966017179648
         ],
         "xaxis": "x",
         "y": [
          8.367
         ],
         "yaxis": "y"
        },
        {
         "hovertemplate": "<b>%{hovertext}</b><br><br>country=Kenya<br>gdp=%{x}<br>co2_per_capita=%{y}<br>population=%{marker.size}<extra></extra>",
         "hovertext": [
          "Kenya"
         ],
         "legendgroup": "Kenya",
         "marker": {
          "color": "#EF553B",
          "size": [
           55339007
          ],
          "sizemode": "area",
          "sizeref": 3556462.3425,
          "symbol": "circle"
         },
         "mode": "markers",
         "name": "Kenya",
         "orientation": "v",
         "showlegend": true,
         "type": "scatter",
         "x": [
          190362157056
         ],
         "xaxis": "x",
         "y": [
          0.389
         ],
         "yaxis": "y"
        }
       ],
       "layout": {
        "legend": {
         "itemsizing": "constant",
         "title": {
          "text": "country"
         },
         "tracegroupgap": 0
        },
        "template": {
         "data": {
          "bar": [
           {
            "error_x": {
             "color": "#2a3f5f"
            },
            "error_y": {
             "color": "#2a3f5f"
            },
            "marker": {
             "line": {
              "color": "#E5ECF6",
              "width": 0.5
             },
             "pattern": {
              "fillmode": "overlay",
              "size": 10,
              "solidity": 0.2
             }
            },
            "type": "bar"
           }
          ],
          "barpolar": [
           {
            "marker": {
             "line": {
              "color": "#E5ECF6",
              "width": 0.5
             },
             "pattern": {
              "fillmode": "overlay",
              "size": 10,
              "solidity": 0.2
             }
            },
            "type": "barpolar"
           }
          ],
          "carpet": [
           {
            "aaxis": {
             "endlinecolor": "#2a3f5f",
             "gridcolor": "white",
             "linecolor": "white",
             "minorgridcolor": "white",
             "startlinecolor": "#2a3f5f"
            },
            "baxis": {
             "endlinecolor": "#2a3f5f",
             "gridcolor": "white",
             "linecolor": "white",
             "minorgridcolor": "white",
             "startlinecolor": "#2a3f5f"
            },
            "type": "carpet"
           }
          ],
          "choropleth": [
           {
            "colorbar": {
             "outlinewidth": 0,
             "ticks": ""
            },
            "type": "choropleth"
           }
          ],
          "contour": [
           {
            "colorbar": {
             "outlinewidth": 0,
             "ticks": ""
            },
            "colorscale": [
             [
              0,
              "#0d0887"
             ],
             [
              0.1111111111111111,
              "#46039f"
             ],
             [
              0.2222222222222222,
              "#7201a8"
             ],
             [
              0.3333333333333333,
              "#9c179e"
             ],
             [
              0.4444444444444444,
              "#bd3786"
             ],
             [
              0.5555555555555556,
              "#d8576b"
             ],
             [
              0.6666666666666666,
              "#ed7953"
             ],
             [
              0.7777777777777778,
              "#fb9f3a"
             ],
             [
              0.8888888888888888,
              "#fdca26"
             ],
             [
              1,
              "#f0f921"
             ]
            ],
            "type": "contour"
           }
          ],
          "contourcarpet": [
           {
            "colorbar": {
             "outlinewidth": 0,
             "ticks": ""
            },
            "type": "contourcarpet"
           }
          ],
          "heatmap": [
           {
            "colorbar": {
             "outlinewidth": 0,
             "ticks": ""
            },
            "colorscale": [
             [
              0,
              "#0d0887"
             ],
             [
              0.1111111111111111,
              "#46039f"
             ],
             [
              0.2222222222222222,
              "#7201a8"
             ],
             [
              0.3333333333333333,
              "#9c179e"
             ],
             [
              0.4444444444444444,
              "#bd3786"
             ],
             [
              0.5555555555555556,
              "#d8576b"
             ],
             [
              0.6666666666666666,
              "#ed7953"
             ],
             [
              0.7777777777777778,
              "#fb9f3a"
             ],
             [
              0.8888888888888888,
              "#fdca26"
             ],
             [
              1,
              "#f0f921"
             ]
            ],
            "type": "heatmap"
           }
          ],
          "heatmapgl": [
           {
            "colorbar": {
             "outlinewidth": 0,
             "ticks": ""
            },
            "colorscale": [
             [
              0,
              "#0d0887"
             ],
             [
              0.1111111111111111,
              "#46039f"
             ],
             [
              0.2222222222222222,
              "#7201a8"
             ],
             [
              0.3333333333333333,
              "#9c179e"
             ],
             [
              0.4444444444444444,
              "#bd3786"
             ],
             [
              0.5555555555555556,
              "#d8576b"
             ],
             [
              0.6666666666666666,
              "#ed7953"
             ],
             [
              0.7777777777777778,
              "#fb9f3a"
             ],
             [
              0.8888888888888888,
              "#fdca26"
             ],
             [
              1,
              "#f0f921"
             ]
            ],
            "type": "heatmapgl"
           }
          ],
          "histogram": [
           {
            "marker": {
             "pattern": {
              "fillmode": "overlay",
              "size": 10,
              "solidity": 0.2
             }
            },
            "type": "histogram"
           }
          ],
          "histogram2d": [
           {
            "colorbar": {
             "outlinewidth": 0,
             "ticks": ""
            },
            "colorscale": [
             [
              0,
              "#0d0887"
             ],
             [
              0.1111111111111111,
              "#46039f"
             ],
             [
              0.2222222222222222,
              "#7201a8"
             ],
             [
              0.3333333333333333,
              "#9c179e"
             ],
             [
              0.4444444444444444,
              "#bd3786"
             ],
             [
              0.5555555555555556,
              "#d8576b"
             ],
             [
              0.6666666666666666,
              "#ed7953"
             ],
             [
              0.7777777777777778,
              "#fb9f3a"
             ],
             [
              0.8888888888888888,
              "#fdca26"
             ],
             [
              1,
              "#f0f921"
             ]
            ],
            "type": "histogram2d"
           }
          ],
          "histogram2dcontour": [
           {
            "colorbar": {
             "outlinewidth": 0,
             "ticks": ""
            },
            "colorscale": [
             [
              0,
              "#0d0887"
             ],
             [
              0.1111111111111111,
              "#46039f"
             ],
             [
              0.2222222222222222,
              "#7201a8"
             ],
             [
              0.3333333333333333,
              "#9c179e"
             ],
             [
              0.4444444444444444,
              "#bd3786"
             ],
             [
              0.5555555555555556,
              "#d8576b"
             ],
             [
              0.6666666666666666,
              "#ed7953"
             ],
             [
              0.7777777777777778,
              "#fb9f3a"
             ],
             [
              0.8888888888888888,
              "#fdca26"
             ],
             [
              1,
              "#f0f921"
             ]
            ],
            "type": "histogram2dcontour"
           }
          ],
          "mesh3d": [
           {
            "colorbar": {
             "outlinewidth": 0,
             "ticks": ""
            },
            "type": "mesh3d"
           }
          ],
          "parcoords": [
           {
            "line": {
             "colorbar": {
              "outlinewidth": 0,
              "ticks": ""
             }
            },
            "type": "parcoords"
           }
          ],
          "pie": [
           {
            "automargin": true,
            "type": "pie"
           }
          ],
          "scatter": [
           {
            "fillpattern": {
             "fillmode": "overlay",
             "size": 10,
             "solidity": 0.2
            },
            "type": "scatter"
           }
          ],
          "scatter3d": [
           {
            "line": {
             "colorbar": {
              "outlinewidth": 0,
              "ticks": ""
             }
            },
            "marker": {
             "colorbar": {
              "outlinewidth": 0,
              "ticks": ""
             }
            },
            "type": "scatter3d"
           }
          ],
          "scattercarpet": [
           {
            "marker": {
             "colorbar": {
              "outlinewidth": 0,
              "ticks": ""
             }
            },
            "type": "scattercarpet"
           }
          ],
          "scattergeo": [
           {
            "marker": {
             "colorbar": {
              "outlinewidth": 0,
              "ticks": ""
             }
            },
            "type": "scattergeo"
           }
          ],
          "scattergl": [
           {
            "marker": {
             "colorbar": {
              "outlinewidth": 0,
              "ticks": ""
             }
            },
            "type": "scattergl"
           }
          ],
          "scattermapbox": [
           {
            "marker": {
             "colorbar": {
              "outlinewidth": 0,
              "ticks": ""
             }
            },
            "type": "scattermapbox"
           }
          ],
          "scatterpolar": [
           {
            "marker": {
             "colorbar": {
              "outlinewidth": 0,
              "ticks": ""
             }
            },
            "type": "scatterpolar"
           }
          ],
          "scatterpolargl": [
           {
            "marker": {
             "colorbar": {
              "outlinewidth": 0,
              "ticks": ""
             }
            },
            "type": "scatterpolargl"
           }
          ],
          "scatterternary": [
           {
            "marker": {
             "colorbar": {
              "outlinewidth": 0,
              "ticks": ""
             }
            },
            "type": "scatterternary"
           }
          ],
          "surface": [
           {
            "colorbar": {
             "outlinewidth": 0,
             "ticks": ""
            },
            "colorscale": [
             [
              0,
              "#0d0887"
             ],
             [
              0.1111111111111111,
              "#46039f"
             ],
             [
              0.2222222222222222,
              "#7201a8"
             ],
             [
              0.3333333333333333,
              "#9c179e"
             ],
             [
              0.4444444444444444,
              "#bd3786"
             ],
             [
              0.5555555555555556,
              "#d8576b"
             ],
             [
              0.6666666666666666,
              "#ed7953"
             ],
             [
              0.7777777777777778,
              "#fb9f3a"
             ],
             [
              0.8888888888888888,
              "#fdca26"
             ],
             [
              1,
              "#f0f921"
             ]
            ],
            "type": "surface"
           }
          ],
          "table": [
           {
            "cells": {
             "fill": {
              "color": "#EBF0F8"
             },
             "line": {
              "color": "white"
             }
            },
            "header": {
             "fill": {
              "color": "#C8D4E3"
             },
             "line": {
              "color": "white"
             }
            },
            "type": "table"
           }
          ]
         },
         "layout": {
          "annotationdefaults": {
           "arrowcolor": "#2a3f5f",
           "arrowhead": 0,
           "arrowwidth": 1
          },
          "autotypenumbers": "strict",
          "coloraxis": {
           "colorbar": {
            "outlinewidth": 0,
            "ticks": ""
           }
          },
          "colorscale": {
           "diverging": [
            [
             0,
             "#8e0152"
            ],
            [
             0.1,
             "#c51b7d"
            ],
            [
             0.2,
             "#de77ae"
            ],
            [
             0.3,
             "#f1b6da"
            ],
            [
             0.4,
             "#fde0ef"
            ],
            [
             0.5,
             "#f7f7f7"
            ],
            [
             0.6,
             "#e6f5d0"
            ],
            [
             0.7,
             "#b8e186"
            ],
            [
             0.8,
             "#7fbc41"
            ],
            [
             0.9,
             "#4d9221"
            ],
            [
             1,
             "#276419"
            ]
           ],
           "sequential": [
            [
             0,
             "#0d0887"
            ],
            [
             0.1111111111111111,
             "#46039f"
            ],
            [
             0.2222222222222222,
             "#7201a8"
            ],
            [
             0.3333333333333333,
             "#9c179e"
            ],
            [
             0.4444444444444444,
             "#bd3786"
            ],
            [
             0.5555555555555556,
             "#d8576b"
            ],
            [
             0.6666666666666666,
             "#ed7953"
            ],
            [
             0.7777777777777778,
             "#fb9f3a"
            ],
            [
             0.8888888888888888,
             "#fdca26"
            ],
            [
             1,
             "#f0f921"
            ]
           ],
           "sequentialminus": [
            [
             0,
             "#0d0887"
            ],
            [
             0.1111111111111111,
             "#46039f"
            ],
            [
             0.2222222222222222,
             "#7201a8"
            ],
            [
             0.3333333333333333,
             "#9c179e"
            ],
            [
             0.4444444444444444,
             "#bd3786"
            ],
            [
             0.5555555555555556,
             "#d8576b"
            ],
            [
             0.6666666666666666,
             "#ed7953"
            ],
            [
             0.7777777777777778,
             "#fb9f3a"
            ],
            [
             0.8888888888888888,
             "#fdca26"
            ],
            [
             1,
             "#f0f921"
            ]
           ]
          },
          "colorway": [
           "#636efa",
           "#EF553B",
           "#00cc96",
           "#ab63fa",
           "#FFA15A",
           "#19d3f3",
           "#FF6692",
           "#B6E880",
           "#FF97FF",
           "#FECB52"
          ],
          "font": {
           "color": "#2a3f5f"
          },
          "geo": {
           "bgcolor": "white",
           "lakecolor": "white",
           "landcolor": "#E5ECF6",
           "showlakes": true,
           "showland": true,
           "subunitcolor": "white"
          },
          "hoverlabel": {
           "align": "left"
          },
          "hovermode": "closest",
          "mapbox": {
           "style": "light"
          },
          "paper_bgcolor": "white",
          "plot_bgcolor": "#E5ECF6",
          "polar": {
           "angularaxis": {
            "gridcolor": "white",
            "linecolor": "white",
            "ticks": ""
           },
           "bgcolor": "#E5ECF6",
           "radialaxis": {
            "gridcolor": "white",
            "linecolor": "white",
            "ticks": ""
           }
          },
          "scene": {
           "xaxis": {
            "backgroundcolor": "#E5ECF6",
            "gridcolor": "white",
            "gridwidth": 2,
            "linecolor": "white",
            "showbackground": true,
            "ticks": "",
            "zerolinecolor": "white"
           },
           "yaxis": {
            "backgroundcolor": "#E5ECF6",
            "gridcolor": "white",
            "gridwidth": 2,
            "linecolor": "white",
            "showbackground": true,
            "ticks": "",
            "zerolinecolor": "white"
           },
           "zaxis": {
            "backgroundcolor": "#E5ECF6",
            "gridcolor": "white",
            "gridwidth": 2,
            "linecolor": "white",
            "showbackground": true,
            "ticks": "",
            "zerolinecolor": "white"
           }
          },
          "shapedefaults": {
           "line": {
            "color": "#2a3f5f"
           }
          },
          "ternary": {
           "aaxis": {
            "gridcolor": "white",
            "linecolor": "white",
            "ticks": ""
           },
           "baxis": {
            "gridcolor": "white",
            "linecolor": "white",
            "ticks": ""
           },
           "bgcolor": "#E5ECF6",
           "caxis": {
            "gridcolor": "white",
            "linecolor": "white",
            "ticks": ""
           }
          },
          "title": {
           "x": 0.05
          },
          "xaxis": {
           "automargin": true,
           "gridcolor": "white",
           "linecolor": "white",
           "ticks": "",
           "title": {
            "standoff": 15
           },
           "zerolinecolor": "white",
           "zerolinewidth": 2
          },
          "yaxis": {
           "automargin": true,
           "gridcolor": "white",
           "linecolor": "white",
           "ticks": "",
           "title": {
            "standoff": 15
           },
           "zerolinecolor": "white",
           "zerolinewidth": 2
          }
         }
        },
        "title": {
         "text": "GDP vs CO₂ Per Capita"
        },
        "xaxis": {
         "anchor": "y",
         "domain": [
          0,
          1
         ],
         "title": {
          "text": "gdp"
         }
        },
        "yaxis": {
         "anchor": "x",
         "domain": [
          0,
          1
         ],
         "title": {
          "text": "co2_per_capita"
         }
        }
       }
      },
      "text/html": [
       "<div>                            <div id=\"65ee80b5-f2f3-480e-bad8-09af65991fed\" class=\"plotly-graph-div\" style=\"height:525px; width:100%;\"></div>            <script type=\"text/javascript\">                require([\"plotly\"], function(Plotly) {                    window.PLOTLYENV=window.PLOTLYENV || {};                                    if (document.getElementById(\"65ee80b5-f2f3-480e-bad8-09af65991fed\")) {                    Plotly.newPlot(                        \"65ee80b5-f2f3-480e-bad8-09af65991fed\",                        [{\"hovertemplate\":\"\\u003cb\\u003e%{hovertext}\\u003c\\u002fb\\u003e\\u003cbr\\u003e\\u003cbr\\u003ecountry=China\\u003cbr\\u003egdp=%{x}\\u003cbr\\u003eco2_per_capita=%{y}\\u003cbr\\u003epopulation=%{marker.size}\\u003cextra\\u003e\\u003c\\u002fextra\\u003e\",\"hovertext\":[\"China\"],\"legendgroup\":\"China\",\"marker\":{\"color\":\"#636efa\",\"size\":[1422584937.0],\"sizemode\":\"area\",\"sizeref\":3556462.3425,\"symbol\":\"circle\"},\"mode\":\"markers\",\"name\":\"China\",\"orientation\":\"v\",\"showlegend\":true,\"x\":[26966017179648.0],\"xaxis\":\"x\",\"y\":[8.367],\"yaxis\":\"y\",\"type\":\"scatter\"},{\"hovertemplate\":\"\\u003cb\\u003e%{hovertext}\\u003c\\u002fb\\u003e\\u003cbr\\u003e\\u003cbr\\u003ecountry=Kenya\\u003cbr\\u003egdp=%{x}\\u003cbr\\u003eco2_per_capita=%{y}\\u003cbr\\u003epopulation=%{marker.size}\\u003cextra\\u003e\\u003c\\u002fextra\\u003e\",\"hovertext\":[\"Kenya\"],\"legendgroup\":\"Kenya\",\"marker\":{\"color\":\"#EF553B\",\"size\":[55339007.0],\"sizemode\":\"area\",\"sizeref\":3556462.3425,\"symbol\":\"circle\"},\"mode\":\"markers\",\"name\":\"Kenya\",\"orientation\":\"v\",\"showlegend\":true,\"x\":[190362157056.0],\"xaxis\":\"x\",\"y\":[0.389],\"yaxis\":\"y\",\"type\":\"scatter\"}],                        {\"template\":{\"data\":{\"histogram2dcontour\":[{\"type\":\"histogram2dcontour\",\"colorbar\":{\"outlinewidth\":0,\"ticks\":\"\"},\"colorscale\":[[0.0,\"#0d0887\"],[0.1111111111111111,\"#46039f\"],[0.2222222222222222,\"#7201a8\"],[0.3333333333333333,\"#9c179e\"],[0.4444444444444444,\"#bd3786\"],[0.5555555555555556,\"#d8576b\"],[0.6666666666666666,\"#ed7953\"],[0.7777777777777778,\"#fb9f3a\"],[0.8888888888888888,\"#fdca26\"],[1.0,\"#f0f921\"]]}],\"choropleth\":[{\"type\":\"choropleth\",\"colorbar\":{\"outlinewidth\":0,\"ticks\":\"\"}}],\"histogram2d\":[{\"type\":\"histogram2d\",\"colorbar\":{\"outlinewidth\":0,\"ticks\":\"\"},\"colorscale\":[[0.0,\"#0d0887\"],[0.1111111111111111,\"#46039f\"],[0.2222222222222222,\"#7201a8\"],[0.3333333333333333,\"#9c179e\"],[0.4444444444444444,\"#bd3786\"],[0.5555555555555556,\"#d8576b\"],[0.6666666666666666,\"#ed7953\"],[0.7777777777777778,\"#fb9f3a\"],[0.8888888888888888,\"#fdca26\"],[1.0,\"#f0f921\"]]}],\"heatmap\":[{\"type\":\"heatmap\",\"colorbar\":{\"outlinewidth\":0,\"ticks\":\"\"},\"colorscale\":[[0.0,\"#0d0887\"],[0.1111111111111111,\"#46039f\"],[0.2222222222222222,\"#7201a8\"],[0.3333333333333333,\"#9c179e\"],[0.4444444444444444,\"#bd3786\"],[0.5555555555555556,\"#d8576b\"],[0.6666666666666666,\"#ed7953\"],[0.7777777777777778,\"#fb9f3a\"],[0.8888888888888888,\"#fdca26\"],[1.0,\"#f0f921\"]]}],\"heatmapgl\":[{\"type\":\"heatmapgl\",\"colorbar\":{\"outlinewidth\":0,\"ticks\":\"\"},\"colorscale\":[[0.0,\"#0d0887\"],[0.1111111111111111,\"#46039f\"],[0.2222222222222222,\"#7201a8\"],[0.3333333333333333,\"#9c179e\"],[0.4444444444444444,\"#bd3786\"],[0.5555555555555556,\"#d8576b\"],[0.6666666666666666,\"#ed7953\"],[0.7777777777777778,\"#fb9f3a\"],[0.8888888888888888,\"#fdca26\"],[1.0,\"#f0f921\"]]}],\"contourcarpet\":[{\"type\":\"contourcarpet\",\"colorbar\":{\"outlinewidth\":0,\"ticks\":\"\"}}],\"contour\":[{\"type\":\"contour\",\"colorbar\":{\"outlinewidth\":0,\"ticks\":\"\"},\"colorscale\":[[0.0,\"#0d0887\"],[0.1111111111111111,\"#46039f\"],[0.2222222222222222,\"#7201a8\"],[0.3333333333333333,\"#9c179e\"],[0.4444444444444444,\"#bd3786\"],[0.5555555555555556,\"#d8576b\"],[0.6666666666666666,\"#ed7953\"],[0.7777777777777778,\"#fb9f3a\"],[0.8888888888888888,\"#fdca26\"],[1.0,\"#f0f921\"]]}],\"surface\":[{\"type\":\"surface\",\"colorbar\":{\"outlinewidth\":0,\"ticks\":\"\"},\"colorscale\":[[0.0,\"#0d0887\"],[0.1111111111111111,\"#46039f\"],[0.2222222222222222,\"#7201a8\"],[0.3333333333333333,\"#9c179e\"],[0.4444444444444444,\"#bd3786\"],[0.5555555555555556,\"#d8576b\"],[0.6666666666666666,\"#ed7953\"],[0.7777777777777778,\"#fb9f3a\"],[0.8888888888888888,\"#fdca26\"],[1.0,\"#f0f921\"]]}],\"mesh3d\":[{\"type\":\"mesh3d\",\"colorbar\":{\"outlinewidth\":0,\"ticks\":\"\"}}],\"scatter\":[{\"fillpattern\":{\"fillmode\":\"overlay\",\"size\":10,\"solidity\":0.2},\"type\":\"scatter\"}],\"parcoords\":[{\"type\":\"parcoords\",\"line\":{\"colorbar\":{\"outlinewidth\":0,\"ticks\":\"\"}}}],\"scatterpolargl\":[{\"type\":\"scatterpolargl\",\"marker\":{\"colorbar\":{\"outlinewidth\":0,\"ticks\":\"\"}}}],\"bar\":[{\"error_x\":{\"color\":\"#2a3f5f\"},\"error_y\":{\"color\":\"#2a3f5f\"},\"marker\":{\"line\":{\"color\":\"#E5ECF6\",\"width\":0.5},\"pattern\":{\"fillmode\":\"overlay\",\"size\":10,\"solidity\":0.2}},\"type\":\"bar\"}],\"scattergeo\":[{\"type\":\"scattergeo\",\"marker\":{\"colorbar\":{\"outlinewidth\":0,\"ticks\":\"\"}}}],\"scatterpolar\":[{\"type\":\"scatterpolar\",\"marker\":{\"colorbar\":{\"outlinewidth\":0,\"ticks\":\"\"}}}],\"histogram\":[{\"marker\":{\"pattern\":{\"fillmode\":\"overlay\",\"size\":10,\"solidity\":0.2}},\"type\":\"histogram\"}],\"scattergl\":[{\"type\":\"scattergl\",\"marker\":{\"colorbar\":{\"outlinewidth\":0,\"ticks\":\"\"}}}],\"scatter3d\":[{\"type\":\"scatter3d\",\"line\":{\"colorbar\":{\"outlinewidth\":0,\"ticks\":\"\"}},\"marker\":{\"colorbar\":{\"outlinewidth\":0,\"ticks\":\"\"}}}],\"scattermapbox\":[{\"type\":\"scattermapbox\",\"marker\":{\"colorbar\":{\"outlinewidth\":0,\"ticks\":\"\"}}}],\"scatterternary\":[{\"type\":\"scatterternary\",\"marker\":{\"colorbar\":{\"outlinewidth\":0,\"ticks\":\"\"}}}],\"scattercarpet\":[{\"type\":\"scattercarpet\",\"marker\":{\"colorbar\":{\"outlinewidth\":0,\"ticks\":\"\"}}}],\"carpet\":[{\"aaxis\":{\"endlinecolor\":\"#2a3f5f\",\"gridcolor\":\"white\",\"linecolor\":\"white\",\"minorgridcolor\":\"white\",\"startlinecolor\":\"#2a3f5f\"},\"baxis\":{\"endlinecolor\":\"#2a3f5f\",\"gridcolor\":\"white\",\"linecolor\":\"white\",\"minorgridcolor\":\"white\",\"startlinecolor\":\"#2a3f5f\"},\"type\":\"carpet\"}],\"table\":[{\"cells\":{\"fill\":{\"color\":\"#EBF0F8\"},\"line\":{\"color\":\"white\"}},\"header\":{\"fill\":{\"color\":\"#C8D4E3\"},\"line\":{\"color\":\"white\"}},\"type\":\"table\"}],\"barpolar\":[{\"marker\":{\"line\":{\"color\":\"#E5ECF6\",\"width\":0.5},\"pattern\":{\"fillmode\":\"overlay\",\"size\":10,\"solidity\":0.2}},\"type\":\"barpolar\"}],\"pie\":[{\"automargin\":true,\"type\":\"pie\"}]},\"layout\":{\"autotypenumbers\":\"strict\",\"colorway\":[\"#636efa\",\"#EF553B\",\"#00cc96\",\"#ab63fa\",\"#FFA15A\",\"#19d3f3\",\"#FF6692\",\"#B6E880\",\"#FF97FF\",\"#FECB52\"],\"font\":{\"color\":\"#2a3f5f\"},\"hovermode\":\"closest\",\"hoverlabel\":{\"align\":\"left\"},\"paper_bgcolor\":\"white\",\"plot_bgcolor\":\"#E5ECF6\",\"polar\":{\"bgcolor\":\"#E5ECF6\",\"angularaxis\":{\"gridcolor\":\"white\",\"linecolor\":\"white\",\"ticks\":\"\"},\"radialaxis\":{\"gridcolor\":\"white\",\"linecolor\":\"white\",\"ticks\":\"\"}},\"ternary\":{\"bgcolor\":\"#E5ECF6\",\"aaxis\":{\"gridcolor\":\"white\",\"linecolor\":\"white\",\"ticks\":\"\"},\"baxis\":{\"gridcolor\":\"white\",\"linecolor\":\"white\",\"ticks\":\"\"},\"caxis\":{\"gridcolor\":\"white\",\"linecolor\":\"white\",\"ticks\":\"\"}},\"coloraxis\":{\"colorbar\":{\"outlinewidth\":0,\"ticks\":\"\"}},\"colorscale\":{\"sequential\":[[0.0,\"#0d0887\"],[0.1111111111111111,\"#46039f\"],[0.2222222222222222,\"#7201a8\"],[0.3333333333333333,\"#9c179e\"],[0.4444444444444444,\"#bd3786\"],[0.5555555555555556,\"#d8576b\"],[0.6666666666666666,\"#ed7953\"],[0.7777777777777778,\"#fb9f3a\"],[0.8888888888888888,\"#fdca26\"],[1.0,\"#f0f921\"]],\"sequentialminus\":[[0.0,\"#0d0887\"],[0.1111111111111111,\"#46039f\"],[0.2222222222222222,\"#7201a8\"],[0.3333333333333333,\"#9c179e\"],[0.4444444444444444,\"#bd3786\"],[0.5555555555555556,\"#d8576b\"],[0.6666666666666666,\"#ed7953\"],[0.7777777777777778,\"#fb9f3a\"],[0.8888888888888888,\"#fdca26\"],[1.0,\"#f0f921\"]],\"diverging\":[[0,\"#8e0152\"],[0.1,\"#c51b7d\"],[0.2,\"#de77ae\"],[0.3,\"#f1b6da\"],[0.4,\"#fde0ef\"],[0.5,\"#f7f7f7\"],[0.6,\"#e6f5d0\"],[0.7,\"#b8e186\"],[0.8,\"#7fbc41\"],[0.9,\"#4d9221\"],[1,\"#276419\"]]},\"xaxis\":{\"gridcolor\":\"white\",\"linecolor\":\"white\",\"ticks\":\"\",\"title\":{\"standoff\":15},\"zerolinecolor\":\"white\",\"automargin\":true,\"zerolinewidth\":2},\"yaxis\":{\"gridcolor\":\"white\",\"linecolor\":\"white\",\"ticks\":\"\",\"title\":{\"standoff\":15},\"zerolinecolor\":\"white\",\"automargin\":true,\"zerolinewidth\":2},\"scene\":{\"xaxis\":{\"backgroundcolor\":\"#E5ECF6\",\"gridcolor\":\"white\",\"linecolor\":\"white\",\"showbackground\":true,\"ticks\":\"\",\"zerolinecolor\":\"white\",\"gridwidth\":2},\"yaxis\":{\"backgroundcolor\":\"#E5ECF6\",\"gridcolor\":\"white\",\"linecolor\":\"white\",\"showbackground\":true,\"ticks\":\"\",\"zerolinecolor\":\"white\",\"gridwidth\":2},\"zaxis\":{\"backgroundcolor\":\"#E5ECF6\",\"gridcolor\":\"white\",\"linecolor\":\"white\",\"showbackground\":true,\"ticks\":\"\",\"zerolinecolor\":\"white\",\"gridwidth\":2}},\"shapedefaults\":{\"line\":{\"color\":\"#2a3f5f\"}},\"annotationdefaults\":{\"arrowcolor\":\"#2a3f5f\",\"arrowhead\":0,\"arrowwidth\":1},\"geo\":{\"bgcolor\":\"white\",\"landcolor\":\"#E5ECF6\",\"subunitcolor\":\"white\",\"showland\":true,\"showlakes\":true,\"lakecolor\":\"white\"},\"title\":{\"x\":0.05},\"mapbox\":{\"style\":\"light\"}}},\"xaxis\":{\"anchor\":\"y\",\"domain\":[0.0,1.0],\"title\":{\"text\":\"gdp\"}},\"yaxis\":{\"anchor\":\"x\",\"domain\":[0.0,1.0],\"title\":{\"text\":\"co2_per_capita\"}},\"legend\":{\"title\":{\"text\":\"country\"},\"tracegroupgap\":0,\"itemsizing\":\"constant\"},\"title\":{\"text\":\"GDP vs CO\\u2082 Per Capita\"}},                        {\"responsive\": true}                    ).then(function(){\n",
       "                            \n",
       "var gd = document.getElementById('65ee80b5-f2f3-480e-bad8-09af65991fed');\n",
       "var x = new MutationObserver(function (mutations, observer) {{\n",
       "        var display = window.getComputedStyle(gd).display;\n",
       "        if (!display || display === 'none') {{\n",
       "            console.log([gd, 'removed!']);\n",
       "            Plotly.purge(gd);\n",
       "            observer.disconnect();\n",
       "        }}\n",
       "}});\n",
       "\n",
       "// Listen for the removal of the full notebook cells\n",
       "var notebookContainer = gd.closest('#notebook-container');\n",
       "if (notebookContainer) {{\n",
       "    x.observe(notebookContainer, {childList: true});\n",
       "}}\n",
       "\n",
       "// Listen for the clearing of the current output cell\n",
       "var outputEl = gd.closest('.output');\n",
       "if (outputEl) {{\n",
       "    x.observe(outputEl, {childList: true});\n",
       "}}\n",
       "\n",
       "                        })                };                });            </script>        </div>"
      ]
     },
     "metadata": {},
     "output_type": "display_data"
    }
   ],
   "source": [
    "df_latest = df_countries[df_countries['year'] == df_countries['year'].max()]\n",
    "plot_df = df_latest[['country', 'gdp', 'co2_per_capita', 'population']].dropna()\n",
    "\n",
    "fig = px.scatter(\n",
    "    plot_df,\n",
    "    x='gdp',\n",
    "    y='co2_per_capita',\n",
    "    size='population',\n",
    "    color='country',\n",
    "    hover_name='country',\n",
    "    title='GDP vs CO₂ Per Capita'\n",
    ")\n",
    "fig.show()\n"
   ]
  }
 ],
 "metadata": {
  "kernelspec": {
   "display_name": "Python 3 (ipykernel)",
   "language": "python",
   "name": "python3"
  },
  "language_info": {
   "codemirror_mode": {
    "name": "ipython",
    "version": 3
   },
   "file_extension": ".py",
   "mimetype": "text/x-python",
   "name": "python",
   "nbconvert_exporter": "python",
   "pygments_lexer": "ipython3",
   "version": "3.10.0"
  }
 },
 "nbformat": 4,
 "nbformat_minor": 5
}
